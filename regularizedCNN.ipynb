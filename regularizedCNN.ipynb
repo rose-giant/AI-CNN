{
  "cells": [
    {
      "cell_type": "markdown",
      "id": "eY99YE-VG1C9",
      "metadata": {
        "id": "eY99YE-VG1C9"
      },
      "source": [
        "# Setup environment"
      ]
    },
    {
      "cell_type": "code",
      "execution_count": 14,
      "id": "initial_id",
      "metadata": {
        "collapsed": true,
        "id": "initial_id"
      },
      "outputs": [],
      "source": [
        "import pandas as pd\n",
        "import torch\n",
        "from torch import nn\n",
        "from torch.utils.data import DataLoader, Dataset\n",
        "\n",
        "import gensim\n",
        "\n",
        "from sklearn.model_selection import train_test_split\n",
        "import sklearn.metrics as metrics\n",
        "\n",
        "import matplotlib.pyplot as plt\n",
        "import seaborn as sns\n",
        "import numpy as np\n",
        "from tqdm import tqdm\n",
        "import gc\n",
        "import os\n",
        "\n",
        "import ssl\n",
        "ssl._create_default_https_context = ssl._create_unverified_context"
      ]
    },
    {
      "cell_type": "markdown",
      "id": "cf946d026ed2d98e",
      "metadata": {
        "collapsed": false,
        "id": "cf946d026ed2d98e"
      },
      "source": [
        "# Config"
      ]
    },
    {
      "cell_type": "markdown",
      "id": "3e83a8b72b644c2",
      "metadata": {
        "collapsed": false,
        "id": "3e83a8b72b644c2"
      },
      "source": [
        "## Model training config"
      ]
    },
    {
      "cell_type": "code",
      "execution_count": 2,
      "id": "2d0826c5b8eb52c9",
      "metadata": {
        "id": "2d0826c5b8eb52c9"
      },
      "outputs": [],
      "source": [
        "LEARNING_RATE = 4e-4\n",
        "WEIGHT_DECAY = 1e-2\n",
        "BATCH_SIZE = 64\n",
        "EPOCHS = 15\n",
        "\n",
        "SEQUENCE_LEN = 64\n",
        "CNN_torchFunctionILTERS = 64"
      ]
    },
    {
      "cell_type": "code",
      "execution_count": 3,
      "id": "b1f939dd5898a0b6",
      "metadata": {
        "id": "b1f939dd5898a0b6"
      },
      "outputs": [],
      "source": [
        "DEVICE = torch.device(\"cuda\" if torch.cuda.is_available() else \"cpu\")"
      ]
    },
    {
      "cell_type": "markdown",
      "id": "27110752c038c1d0",
      "metadata": {
        "collapsed": false,
        "id": "27110752c038c1d0"
      },
      "source": [
        "# Data Preparation"
      ]
    },
    {
      "cell_type": "markdown",
      "id": "32b050729991fec9",
      "metadata": {
        "collapsed": false,
        "id": "32b050729991fec9"
      },
      "source": [
        "## Load Data"
      ]
    },
    {
      "cell_type": "code",
      "execution_count": 4,
      "id": "88e92f34d72c6f62",
      "metadata": {
        "id": "88e92f34d72c6f62"
      },
      "outputs": [
        {
          "data": {
            "text/html": [
              "<div>\n",
              "<style scoped>\n",
              "    .dataframe tbody tr th:only-of-type {\n",
              "        vertical-align: middle;\n",
              "    }\n",
              "\n",
              "    .dataframe tbody tr th {\n",
              "        vertical-align: top;\n",
              "    }\n",
              "\n",
              "    .dataframe thead th {\n",
              "        text-align: right;\n",
              "    }\n",
              "</style>\n",
              "<table border=\"1\" class=\"dataframe\">\n",
              "  <thead>\n",
              "    <tr style=\"text-align: right;\">\n",
              "      <th></th>\n",
              "      <th>tweet</th>\n",
              "      <th>intention</th>\n",
              "    </tr>\n",
              "  </thead>\n",
              "  <tbody>\n",
              "    <tr>\n",
              "      <th>0</th>\n",
              "      <td>my life is meaningless i just want to end my l...</td>\n",
              "      <td>1</td>\n",
              "    </tr>\n",
              "    <tr>\n",
              "      <th>1</th>\n",
              "      <td>muttering i wanna die to myself daily for a fe...</td>\n",
              "      <td>1</td>\n",
              "    </tr>\n",
              "    <tr>\n",
              "      <th>2</th>\n",
              "      <td>work slave i really feel like my only purpose ...</td>\n",
              "      <td>1</td>\n",
              "    </tr>\n",
              "    <tr>\n",
              "      <th>3</th>\n",
              "      <td>i did something on the 2 of october i overdose...</td>\n",
              "      <td>1</td>\n",
              "    </tr>\n",
              "    <tr>\n",
              "      <th>4</th>\n",
              "      <td>i feel like no one cares i just want to die ma...</td>\n",
              "      <td>1</td>\n",
              "    </tr>\n",
              "    <tr>\n",
              "      <th>...</th>\n",
              "      <td>...</td>\n",
              "      <td>...</td>\n",
              "    </tr>\n",
              "    <tr>\n",
              "      <th>9114</th>\n",
              "      <td>have you ever laid on your bed at night and cr...</td>\n",
              "      <td>1</td>\n",
              "    </tr>\n",
              "    <tr>\n",
              "      <th>9115</th>\n",
              "      <td>the fault the blame the pain s still there i m...</td>\n",
              "      <td>1</td>\n",
              "    </tr>\n",
              "    <tr>\n",
              "      <th>9116</th>\n",
              "      <td>stop asking me to trust you when i m still cou...</td>\n",
              "      <td>1</td>\n",
              "    </tr>\n",
              "    <tr>\n",
              "      <th>9117</th>\n",
              "      <td>i never know how to handle sadness crying make...</td>\n",
              "      <td>1</td>\n",
              "    </tr>\n",
              "    <tr>\n",
              "      <th>9118</th>\n",
              "      <td>when cancer takes a life we blame cancer depre...</td>\n",
              "      <td>1</td>\n",
              "    </tr>\n",
              "  </tbody>\n",
              "</table>\n",
              "<p>9119 rows × 2 columns</p>\n",
              "</div>"
            ],
            "text/plain": [
              "                                                  tweet  intention\n",
              "0     my life is meaningless i just want to end my l...          1\n",
              "1     muttering i wanna die to myself daily for a fe...          1\n",
              "2     work slave i really feel like my only purpose ...          1\n",
              "3     i did something on the 2 of october i overdose...          1\n",
              "4     i feel like no one cares i just want to die ma...          1\n",
              "...                                                 ...        ...\n",
              "9114  have you ever laid on your bed at night and cr...          1\n",
              "9115  the fault the blame the pain s still there i m...          1\n",
              "9116  stop asking me to trust you when i m still cou...          1\n",
              "9117  i never know how to handle sadness crying make...          1\n",
              "9118  when cancer takes a life we blame cancer depre...          1\n",
              "\n",
              "[9119 rows x 2 columns]"
            ]
          },
          "execution_count": 4,
          "metadata": {},
          "output_type": "execute_result"
        }
      ],
      "source": [
        "# TODO: Load read and load the data here\n",
        "df = pd.read_csv(\"twitter-suicidal-data.csv\")\n",
        "df"
      ]
    },
    {
      "cell_type": "markdown",
      "id": "57f7552c58ea498e",
      "metadata": {
        "collapsed": false,
        "id": "57f7552c58ea498e"
      },
      "source": [
        "## Data Preprocessing"
      ]
    },
    {
      "cell_type": "code",
      "execution_count": 5,
      "id": "f16efd0184e90f40",
      "metadata": {
        "colab": {
          "base_uri": "https://localhost:8080/"
        },
        "id": "f16efd0184e90f40",
        "outputId": "44e62e18-a7ba-4ce1-8bf6-0ec77ca51205"
      },
      "outputs": [],
      "source": [
        "import nltk\n",
        "import emoji\n",
        "import re\n",
        "\n",
        "df = pd.read_csv(\"twitter-suicidal-data.csv\")\n",
        "nltk.download([\"stopwords\", \"punkt\", \"wordnet\", \"averaged_perceptron_tagger\"])"
      ]
    },
    {
      "cell_type": "code",
      "execution_count": 2,
      "id": "dbe50f445aa09ecc",
      "metadata": {
        "id": "dbe50f445aa09ecc"
      },
      "outputs": [
        {
          "data": {
            "text/html": [
              "<div>\n",
              "<style scoped>\n",
              "    .dataframe tbody tr th:only-of-type {\n",
              "        vertical-align: middle;\n",
              "    }\n",
              "\n",
              "    .dataframe tbody tr th {\n",
              "        vertical-align: top;\n",
              "    }\n",
              "\n",
              "    .dataframe thead th {\n",
              "        text-align: right;\n",
              "    }\n",
              "</style>\n",
              "<table border=\"1\" class=\"dataframe\">\n",
              "  <thead>\n",
              "    <tr style=\"text-align: right;\">\n",
              "      <th></th>\n",
              "      <th>tweet</th>\n",
              "      <th>intention</th>\n",
              "      <th>tokens</th>\n",
              "      <th>text_length</th>\n",
              "    </tr>\n",
              "  </thead>\n",
              "  <tbody>\n",
              "    <tr>\n",
              "      <th>0</th>\n",
              "      <td>my life is meaningless i just want to end my l...</td>\n",
              "      <td>1</td>\n",
              "      <td>[life, meaningless, want, end, life, badly, li...</td>\n",
              "      <td>79</td>\n",
              "    </tr>\n",
              "    <tr>\n",
              "      <th>1</th>\n",
              "      <td>muttering i wanna die to myself daily for a fe...</td>\n",
              "      <td>1</td>\n",
              "      <td>[mutter, wan, na, die, daily, month, feel, wor...</td>\n",
              "      <td>45</td>\n",
              "    </tr>\n",
              "    <tr>\n",
              "      <th>2</th>\n",
              "      <td>work slave i really feel like my only purpose ...</td>\n",
              "      <td>1</td>\n",
              "      <td>[work, slave, really, feel, like, purpose, lif...</td>\n",
              "      <td>69</td>\n",
              "    </tr>\n",
              "    <tr>\n",
              "      <th>3</th>\n",
              "      <td>i did something on the 2 of october i overdose...</td>\n",
              "      <td>1</td>\n",
              "      <td>[something, october, overdose, felt, alone, ho...</td>\n",
              "      <td>77</td>\n",
              "    </tr>\n",
              "    <tr>\n",
              "      <th>4</th>\n",
              "      <td>i feel like no one cares i just want to die ma...</td>\n",
              "      <td>1</td>\n",
              "      <td>[feel, like, one, care, want, die, maybe, feel...</td>\n",
              "      <td>18</td>\n",
              "    </tr>\n",
              "    <tr>\n",
              "      <th>...</th>\n",
              "      <td>...</td>\n",
              "      <td>...</td>\n",
              "      <td>...</td>\n",
              "      <td>...</td>\n",
              "    </tr>\n",
              "    <tr>\n",
              "      <th>9114</th>\n",
              "      <td>have you ever laid on your bed at night and cr...</td>\n",
              "      <td>1</td>\n",
              "      <td>[ever, lay, bed, night, cry, good, enough, cou...</td>\n",
              "      <td>33</td>\n",
              "    </tr>\n",
              "    <tr>\n",
              "      <th>9115</th>\n",
              "      <td>the fault the blame the pain s still there i m...</td>\n",
              "      <td>1</td>\n",
              "      <td>[fault, blame, pain, still, alone, inside, bro...</td>\n",
              "      <td>20</td>\n",
              "    </tr>\n",
              "    <tr>\n",
              "      <th>9116</th>\n",
              "      <td>stop asking me to trust you when i m still cou...</td>\n",
              "      <td>1</td>\n",
              "      <td>[stop, ask, trust, still, cough, water, last, ...</td>\n",
              "      <td>22</td>\n",
              "    </tr>\n",
              "    <tr>\n",
              "      <th>9117</th>\n",
              "      <td>i never know how to handle sadness crying make...</td>\n",
              "      <td>1</td>\n",
              "      <td>[never, know, handle, sadness, cry, make, feel...</td>\n",
              "      <td>12</td>\n",
              "    </tr>\n",
              "    <tr>\n",
              "      <th>9118</th>\n",
              "      <td>when cancer takes a life we blame cancer depre...</td>\n",
              "      <td>1</td>\n",
              "      <td>[cancer, take, life, blame, cancer, depression...</td>\n",
              "      <td>21</td>\n",
              "    </tr>\n",
              "  </tbody>\n",
              "</table>\n",
              "<p>9119 rows × 4 columns</p>\n",
              "</div>"
            ],
            "text/plain": [
              "                                                  tweet  intention  \\\n",
              "0     my life is meaningless i just want to end my l...          1   \n",
              "1     muttering i wanna die to myself daily for a fe...          1   \n",
              "2     work slave i really feel like my only purpose ...          1   \n",
              "3     i did something on the 2 of october i overdose...          1   \n",
              "4     i feel like no one cares i just want to die ma...          1   \n",
              "...                                                 ...        ...   \n",
              "9114  have you ever laid on your bed at night and cr...          1   \n",
              "9115  the fault the blame the pain s still there i m...          1   \n",
              "9116  stop asking me to trust you when i m still cou...          1   \n",
              "9117  i never know how to handle sadness crying make...          1   \n",
              "9118  when cancer takes a life we blame cancer depre...          1   \n",
              "\n",
              "                                                 tokens  text_length  \n",
              "0     [life, meaningless, want, end, life, badly, li...           79  \n",
              "1     [mutter, wan, na, die, daily, month, feel, wor...           45  \n",
              "2     [work, slave, really, feel, like, purpose, lif...           69  \n",
              "3     [something, october, overdose, felt, alone, ho...           77  \n",
              "4     [feel, like, one, care, want, die, maybe, feel...           18  \n",
              "...                                                 ...          ...  \n",
              "9114  [ever, lay, bed, night, cry, good, enough, cou...           33  \n",
              "9115  [fault, blame, pain, still, alone, inside, bro...           20  \n",
              "9116  [stop, ask, trust, still, cough, water, last, ...           22  \n",
              "9117  [never, know, handle, sadness, cry, make, feel...           12  \n",
              "9118  [cancer, take, life, blame, cancer, depression...           21  \n",
              "\n",
              "[9119 rows x 4 columns]"
            ]
          },
          "execution_count": 2,
          "metadata": {},
          "output_type": "execute_result"
        }
      ],
      "source": [
        "def convert_emoji_to_text(text):\n",
        "    text = emoji.replace_emoji(text, replace=' ')\n",
        "    return text\n",
        "\n",
        "stopwords = nltk.corpus.stopwords.words(\"english\")\n",
        "lemmatizer = nltk.stem.WordNetLemmatizer()\n",
        "\n",
        "def nltk_pos_tagger(nltk_tag):\n",
        "    if nltk_tag.startswith('J'):\n",
        "        return 'a'\n",
        "    elif nltk_tag.startswith('V'):\n",
        "        return 'v'\n",
        "    elif nltk_tag.startswith('N'):\n",
        "        return 'n'\n",
        "    elif nltk_tag.startswith('R'):\n",
        "        return 'r'\n",
        "    else:\n",
        "        return 'n'\n",
        "\n",
        "def preprocess_data(text: str):\n",
        "    text = text.lower()\n",
        "    \n",
        "    text = re.sub(r'[^\\w\\s]', '', text)\n",
        "    \n",
        "    text = re.sub(r'\\d+', '', text)\n",
        "    \n",
        "    text = re.sub(r'http\\S+|www\\S+|https\\S+', '', text, flags=re.MULTILINE)\n",
        "    \n",
        "    text = re.sub(r'@\\w+', '', text)\n",
        "    \n",
        "    text = re.sub(r'\\s+', ' ', text).strip()\n",
        "    \n",
        "    text = convert_emoji_to_text(text)\n",
        "    \n",
        "    text = re.sub(r'[^\\w\\s]', '', text)\n",
        "    \n",
        "    tokens = nltk.word_tokenize(text)\n",
        "    pos_tags = nltk.pos_tag(tokens)\n",
        "    \n",
        "    tokens = [lemmatizer.lemmatize(token, nltk_pos_tagger(tag)) for token, tag in pos_tags]\n",
        "    tokens = [token for token in tokens if token not in stopwords]\n",
        "\n",
        "    return tokens\n",
        "\n",
        "df['tokens'] = df['tweet'].apply(preprocess_data)\n",
        "df['text_length'] = df['tweet'].apply(lambda x: len(x.split()))\n",
        "df"
      ]
    },
    {
      "cell_type": "code",
      "execution_count": 7,
      "id": "11ac7d394e03d9f",
      "metadata": {
        "id": "11ac7d394e03d9f"
      },
      "outputs": [
        {
          "name": "stdout",
          "output_type": "stream",
          "text": [
            "['life', 'meaningless', 'want', 'end', 'life', 'badly', 'life', 'completely', 'empty', 'dont', 'want', 'create', 'meaning', 'create', 'meaning', 'pain', 'long', 'hold', 'back', 'urge', 'run', 'car', 'head', 'first', 'next', 'person', 'come', 'opposite', 'way', 'stop', 'feel', 'jealous', 'tragic', 'character', 'like', 'gomer', 'pile', 'swift', 'end', 'able', 'bring', 'life']\n"
          ]
        }
      ],
      "source": [
        "print(preprocess_data(\"my life is meaningless i ,,,...just want ;;to end my life so badly my life is completely empty and i dont want to have to create meaning in it creating meaning is pain how long will i hold back the urge to run my car head first into the next person coming the opposite way when will i stop feeling jealous of tragic characters like gomer pile for the swift end they were able to bring to their lives\"))"
      ]
    },
    {
      "cell_type": "markdown",
      "id": "2e129c7a31663741",
      "metadata": {
        "collapsed": false,
        "id": "2e129c7a31663741"
      },
      "source": [
        "# Word2Vec - Word Embedding"
      ]
    },
    {
      "cell_type": "code",
      "execution_count": 7,
      "id": "8d15b31459fd1e5",
      "metadata": {
        "colab": {
          "base_uri": "https://localhost:8080/"
        },
        "id": "8d15b31459fd1e5",
        "outputId": "76a14c70-c496-4f53-b1f1-9f7626a0f9a4"
      },
      "outputs": [
        {
          "name": "stdout",
          "output_type": "stream",
          "text": [
            "fasttext-wiki-news-subwords-300\n",
            "conceptnet-numberbatch-17-06-300\n",
            "word2vec-ruscorpora-300\n",
            "word2vec-google-news-300\n",
            "glove-wiki-gigaword-50\n",
            "glove-wiki-gigaword-100\n",
            "glove-wiki-gigaword-200\n",
            "glove-wiki-gigaword-300\n",
            "glove-twitter-25\n",
            "glove-twitter-50\n",
            "glove-twitter-100\n",
            "glove-twitter-200\n",
            "__testing_word2vec-matrix-synopsis\n"
          ]
        }
      ],
      "source": [
        "import gensim.downloader as api\n",
        "print(\"\\n\".join(api.info()['models'].keys()))"
      ]
    },
    {
      "cell_type": "code",
      "execution_count": 3,
      "id": "55bbe6faa1226b8d",
      "metadata": {
        "id": "55bbe6faa1226b8d"
      },
      "outputs": [
        {
          "name": "stdout",
          "output_type": "stream",
          "text": [
            "fasttext-wiki-news-subwords-300\n",
            "conceptnet-numberbatch-17-06-300\n",
            "word2vec-ruscorpora-300\n",
            "word2vec-google-news-300\n",
            "glove-wiki-gigaword-50\n",
            "glove-wiki-gigaword-100\n",
            "glove-wiki-gigaword-200\n",
            "glove-wiki-gigaword-300\n",
            "glove-twitter-25\n",
            "glove-twitter-50\n",
            "glove-twitter-100\n",
            "glove-twitter-200\n",
            "__testing_word2vec-matrix-synopsis\n",
            "Loading Word2Vec model...\n",
            "Word2Vec model is loaded.\n",
            "Embedding vector dimension: 300\n"
          ]
        }
      ],
      "source": [
        "W2V_PATH = \"GoogleNews-vectors-negative300.bin\"\n",
        "\n",
        "if W2V_PATH is not None and os.path.exists(W2V_PATH):\n",
        "    print(\"Loading Word2Vec model...\")\n",
        "    try:\n",
        "        w2v_model = keyedvectors.load_word2vec_format(W2V_PATH, binary=True)\n",
        "        print(\"Word2Vec model is loaded.\")\n",
        "    except Exception as e:\n",
        "        print(f\"Error loading the model: {e}\")\n",
        "else:\n",
        "    print(\"Downloading Word2Vec model...\")\n",
        "    from gensim import downloader as api\n",
        "    w2v_model = api.load(\"word2vec-google-news-300\")\n",
        "    print(\"Word2Vec model is downloaded.\")\n",
        "    if W2V_PATH is not None:\n",
        "        print(\"\\nSaving Word2Vec model...\")\n",
        "        w2v_model.save_word2vec_format(W2V_PATH, binary=True)\n",
        "        print(\"Word2Vec model is saved.\")\n"
      ]
    },
    {
      "cell_type": "code",
      "execution_count": 10,
      "id": "7d53926889defc38",
      "metadata": {
        "id": "7d53926889defc38"
      },
      "outputs": [
        {
          "name": "stdout",
          "output_type": "stream",
          "text": [
            "Embedding vector dimension: 300\n"
          ]
        }
      ],
      "source": [
        "EMBEDDING_VECTOR_DIM = w2v_model.vector_size\n",
        "print(f\"Embedding vector dimension: {EMBEDDING_VECTOR_DIM}\")"
      ]
    },
    {
      "cell_type": "markdown",
      "id": "21730f8dd01e5b4e",
      "metadata": {
        "collapsed": false,
        "id": "21730f8dd01e5b4e"
      },
      "source": [
        "# Dataset"
      ]
    },
    {
      "cell_type": "code",
      "execution_count": 4,
      "id": "xdqLYrA4xjuX",
      "metadata": {
        "id": "xdqLYrA4xjuX"
      },
      "outputs": [
        {
          "name": "stdout",
          "output_type": "stream",
          "text": [
            "Deleted 0-Len Samples: 23\n"
          ]
        },
        {
          "name": "stderr",
          "output_type": "stream",
          "text": [
            "/tmp/ipykernel_7636/2006730870.py:32: SettingWithCopyWarning: \n",
            "A value is trying to be set on a copy of a slice from a DataFrame.\n",
            "Try using .loc[row_indexer,col_indexer] = value instead\n",
            "\n",
            "See the caveats in the documentation: https://pandas.pydata.org/pandas-docs/stable/user_guide/indexing.html#returning-a-view-versus-a-copy\n",
            "  self.dataframe[self.df_token_col] = self.dataframe[self.df_token_col].map(self._pad)\n",
            "/tmp/ipykernel_7636/2006730870.py:45: UserWarning: Creating a tensor from a list of numpy.ndarrays is extremely slow. Please consider converting the list to a single numpy.ndarray with numpy.array() before converting to a tensor. (Triggered internally at ../torch/csrc/utils/tensor_new.cpp:274.)\n",
            "  return torch.tensor(padded_vectors, dtype=torch.float32)\n",
            "/tmp/ipykernel_7636/2006730870.py:35: SettingWithCopyWarning: \n",
            "A value is trying to be set on a copy of a slice from a DataFrame.\n",
            "Try using .loc[row_indexer,col_indexer] = value instead\n",
            "\n",
            "See the caveats in the documentation: https://pandas.pydata.org/pandas-docs/stable/user_guide/indexing.html#returning-a-view-versus-a-copy\n",
            "  self.dataframe[\"vector\"] = self.dataframe[self.df_token_col].map(self._get_word_vectors)\n"
          ]
        },
        {
          "name": "stdout",
          "output_type": "stream",
          "text": [
            "Train dataset length: 7272\n",
            "Deleted 0-Len Samples: 8\n"
          ]
        },
        {
          "name": "stderr",
          "output_type": "stream",
          "text": [
            "/tmp/ipykernel_7636/2006730870.py:32: SettingWithCopyWarning: \n",
            "A value is trying to be set on a copy of a slice from a DataFrame.\n",
            "Try using .loc[row_indexer,col_indexer] = value instead\n",
            "\n",
            "See the caveats in the documentation: https://pandas.pydata.org/pandas-docs/stable/user_guide/indexing.html#returning-a-view-versus-a-copy\n",
            "  self.dataframe[self.df_token_col] = self.dataframe[self.df_token_col].map(self._pad)\n"
          ]
        },
        {
          "name": "stdout",
          "output_type": "stream",
          "text": [
            "Valid dataset length: 1816\n"
          ]
        },
        {
          "name": "stderr",
          "output_type": "stream",
          "text": [
            "/tmp/ipykernel_7636/2006730870.py:35: SettingWithCopyWarning: \n",
            "A value is trying to be set on a copy of a slice from a DataFrame.\n",
            "Try using .loc[row_indexer,col_indexer] = value instead\n",
            "\n",
            "See the caveats in the documentation: https://pandas.pydata.org/pandas-docs/stable/user_guide/indexing.html#returning-a-view-versus-a-copy\n",
            "  self.dataframe[\"vector\"] = self.dataframe[self.df_token_col].map(self._get_word_vectors)\n"
          ]
        }
      ],
      "source": [
        "class Twitter(Dataset):\n",
        "    def __init__(self, dataframe: pd.DataFrame, w2v_model: gensim.models.KeyedVectors, sequence_len: int):\n",
        "        self.dataframe = dataframe\n",
        "        self.w2v_model = w2v_model\n",
        "        self.max_sequence_len = sequence_len\n",
        "        self.vector_size = w2v_model.vector_size\n",
        "\n",
        "        self.df_token_col = \"tokens\"\n",
        "        self._proc_dataset()\n",
        "        self.len = len(self.dataframe)\n",
        "\n",
        "    def __len__(self):\n",
        "        return self.len\n",
        "\n",
        "    def __getitem__(self, idx):\n",
        "        return self.dataframe.iloc[idx][\"vector\"], self.dataframe.iloc[idx][\"intention\"]\n",
        "\n",
        "    def get_vector_size(self):\n",
        "        return self.vector_size\n",
        "\n",
        "    def _proc_dataset(self):\n",
        "        self.dataframe[self.df_token_col] = self.dataframe[\"tweet\"].map(preprocess_data)\n",
        "\n",
        "        lwz = len(self.dataframe)\n",
        "        self.dataframe = self.dataframe[self.dataframe[self.df_token_col].map(len) > 0]\n",
        "        self.dataframe.reset_index(drop=True, inplace=True)\n",
        "        print(f\"Deleted 0-Len Samples: {lwz - len(self.dataframe)}\")\n",
        "\n",
        "        self.dataframe[self.df_token_col] = self.dataframe[self.df_token_col].map(self._pad)\n",
        "\n",
        "        self.dataframe[\"vector\"] = self.dataframe[self.df_token_col].map(self._get_word_vectors)\n",
        "\n",
        "    def _get_word_vectors(self, tokens: list) -> torch.tensor:\n",
        "        vectors = []\n",
        "        for token in tokens:\n",
        "            if token in self.w2v_model:\n",
        "                vectors.append(self.w2v_model[token])\n",
        "            else:\n",
        "                vectors.append(np.zeros(self.vector_size, dtype=np.float32))\n",
        "        padded_vectors = self._pad(vectors)\n",
        "        return torch.tensor(padded_vectors, dtype=torch.float32)\n",
        "\n",
        "    def _pad(self, tokens: list):\n",
        "        if len(tokens) < self.max_sequence_len:\n",
        "            tokens.extend([''] * (self.max_sequence_len - len(tokens)))\n",
        "        else:\n",
        "            tokens = tokens[:self.max_sequence_len]\n",
        "        return tokens\n",
        "\n",
        "    def seq_report(self):\n",
        "        length_all = self.dataframe[self.df_token_col].map(len).tolist()\n",
        "        max_length = np.max(length_all)\n",
        "        print(f\"Sequence Length Report\")\n",
        "        print(f\":::::MAX  LENGTH:::[{max_length:^5}]\")\n",
        "        print(f\":::::MIN  LENGTH:::[{np.min(length_all):^5}]\")\n",
        "        print(f\":::::MEAN LENGTH:::[{np.mean(length_all):^5}]\")\n",
        "\n",
        "        all_tokens = set()\n",
        "        for token_set in self.dataframe[self.df_token_col].tolist():\n",
        "            all_tokens = all_tokens.union(set(token_set))\n",
        "        unique_tokens_count = len(all_tokens)\n",
        "        valid_tokens = sum(1 if token in self.w2v_model else 0 for token in all_tokens)\n",
        "        print(\"Sequence Tokenization Report\")\n",
        "        print(f\":::::All Unique Tokens:::[{unique_tokens_count:^6}\")\n",
        "        print(f\":::::All Valid Tokens:::[{valid_tokens:^6}\")\n",
        "        print(f\":::::Valid Tokens:::[{round(100*valid_tokens/unique_tokens_count, 2):^5}%]\")\n",
        "\n",
        "    @staticmethod\n",
        "    def _to_tensor(tokens: list):\n",
        "        return torch.tensor(tokens, dtype=torch.float32)\n",
        "  "
      ]
    },
    {
      "cell_type": "markdown",
      "id": "4b87e7e8b267a1c8",
      "metadata": {
        "collapsed": false,
        "id": "4b87e7e8b267a1c8"
      },
      "source": [
        "# Prepare Data"
      ]
    },
    {
      "cell_type": "markdown",
      "id": "bd00ab880892e646",
      "metadata": {
        "collapsed": false,
        "id": "bd00ab880892e646"
      },
      "source": [
        "## Split Data into train-valid"
      ]
    },
    {
      "cell_type": "code",
      "execution_count": null,
      "id": "6a54facda2729872",
      "metadata": {
        "colab": {
          "base_uri": "https://localhost:8080/"
        },
        "id": "6a54facda2729872",
        "outputId": "970c41d9-1af0-4892-c42d-2fee01e1a0ea"
      },
      "outputs": [],
      "source": [
        "from sklearn.model_selection import train_test_split\n",
        "\n",
        "train_df, test_df = train_test_split(df, test_size=0.2, random_state=42)"
      ]
    },
    {
      "cell_type": "markdown",
      "id": "670fcd8db0e5651c",
      "metadata": {
        "collapsed": false,
        "id": "670fcd8db0e5651c"
      },
      "source": [
        "## Create Datasets"
      ]
    },
    {
      "cell_type": "code",
      "execution_count": 13,
      "id": "3e4a5b690afadad5",
      "metadata": {
        "id": "3e4a5b690afadad5"
      },
      "outputs": [
        {
          "name": "stdout",
          "output_type": "stream",
          "text": [
            "Deleted 0-Len Samples: 23\n"
          ]
        },
        {
          "name": "stderr",
          "output_type": "stream",
          "text": [
            "/tmp/ipykernel_139383/4060927618.py:32: SettingWithCopyWarning: \n",
            "A value is trying to be set on a copy of a slice from a DataFrame.\n",
            "Try using .loc[row_indexer,col_indexer] = value instead\n",
            "\n",
            "See the caveats in the documentation: https://pandas.pydata.org/pandas-docs/stable/user_guide/indexing.html#returning-a-view-versus-a-copy\n",
            "  self.dataframe[self.df_token_col] = self.dataframe[self.df_token_col].map(self._pad)\n",
            "/tmp/ipykernel_139383/4060927618.py:45: UserWarning: Creating a tensor from a list of numpy.ndarrays is extremely slow. Please consider converting the list to a single numpy.ndarray with numpy.array() before converting to a tensor. (Triggered internally at ../torch/csrc/utils/tensor_new.cpp:274.)\n",
            "  return torch.tensor(padded_vectors, dtype=torch.float32)\n",
            "/tmp/ipykernel_139383/4060927618.py:35: SettingWithCopyWarning: \n",
            "A value is trying to be set on a copy of a slice from a DataFrame.\n",
            "Try using .loc[row_indexer,col_indexer] = value instead\n",
            "\n",
            "See the caveats in the documentation: https://pandas.pydata.org/pandas-docs/stable/user_guide/indexing.html#returning-a-view-versus-a-copy\n",
            "  self.dataframe[\"vector\"] = self.dataframe[self.df_token_col].map(self._get_word_vectors)\n"
          ]
        },
        {
          "name": "stdout",
          "output_type": "stream",
          "text": [
            "Train dataset length: 7272\n",
            "Deleted 0-Len Samples: 8\n"
          ]
        },
        {
          "name": "stderr",
          "output_type": "stream",
          "text": [
            "/tmp/ipykernel_139383/4060927618.py:32: SettingWithCopyWarning: \n",
            "A value is trying to be set on a copy of a slice from a DataFrame.\n",
            "Try using .loc[row_indexer,col_indexer] = value instead\n",
            "\n",
            "See the caveats in the documentation: https://pandas.pydata.org/pandas-docs/stable/user_guide/indexing.html#returning-a-view-versus-a-copy\n",
            "  self.dataframe[self.df_token_col] = self.dataframe[self.df_token_col].map(self._pad)\n"
          ]
        }
      ],
      "source": [
        "# create twitter dataset\n",
        "train_dataset = Twitter(\n",
        "    train_df, w2v_model, sequence_len\n",
        ")\n",
        "\n",
        "print(f\"Train dataset length: {len(train_dataset)}\")\n",
        "\n",
        "valid_dataset = Twitter(\n",
        "    test_df, w2v_model, sequence_len\n",
        ")\n",
        "print(f\"Valid dataset length: {len(valid_dataset)}\")"
      ]
    },
    {
      "cell_type": "code",
      "execution_count": 21,
      "id": "d5b54817",
      "metadata": {},
      "outputs": [
        {
          "name": "stdout",
          "output_type": "stream",
          "text": [
            "Deleted 0-Len Samples: 8\n"
          ]
        },
        {
          "name": "stderr",
          "output_type": "stream",
          "text": [
            "/tmp/ipykernel_8522/1007179429.py:32: SettingWithCopyWarning: \n",
            "A value is trying to be set on a copy of a slice from a DataFrame.\n",
            "Try using .loc[row_indexer,col_indexer] = value instead\n",
            "\n",
            "See the caveats in the documentation: https://pandas.pydata.org/pandas-docs/stable/user_guide/indexing.html#returning-a-view-versus-a-copy\n",
            "  self.dataframe[self.df_token_col] = self.dataframe[self.df_token_col].map(self._pad)\n"
          ]
        },
        {
          "name": "stdout",
          "output_type": "stream",
          "text": [
            "Valid dataset length: 1816\n"
          ]
        },
        {
          "name": "stderr",
          "output_type": "stream",
          "text": [
            "/tmp/ipykernel_8522/1007179429.py:35: SettingWithCopyWarning: \n",
            "A value is trying to be set on a copy of a slice from a DataFrame.\n",
            "Try using .loc[row_indexer,col_indexer] = value instead\n",
            "\n",
            "See the caveats in the documentation: https://pandas.pydata.org/pandas-docs/stable/user_guide/indexing.html#returning-a-view-versus-a-copy\n",
            "  self.dataframe[\"vector\"] = self.dataframe[self.df_token_col].map(self._get_word_vectors)\n"
          ]
        }
      ],
      "source": [
        "valid_dataset = Twitter(\n",
        "    test_df, w2v_model, sequence_len\n",
        ")\n",
        "print(f\"Valid dataset length: {len(valid_dataset)}\")"
      ]
    },
    {
      "cell_type": "markdown",
      "id": "fd1da733e79676ff",
      "metadata": {
        "collapsed": false,
        "id": "fd1da733e79676ff"
      },
      "source": [
        "# Model and Train"
      ]
    },
    {
      "cell_type": "markdown",
      "id": "aa29012e257e3d9",
      "metadata": {
        "collapsed": false,
        "id": "aa29012e257e3d9"
      },
      "source": [
        "## Utils"
      ]
    },
    {
      "cell_type": "code",
      "execution_count": 5,
      "id": "d5b33657ae501516",
      "metadata": {
        "id": "d5b33657ae501516"
      },
      "outputs": [],
      "source": [
        "@torch.no_grad()\n",
        "def model_eval(model, loader, loss_function, device: str = 'auto'):\n",
        "    \"\"\"Returns test_loss, test_acc\"\"\"\n",
        "    test_loss = 0.0\n",
        "    test_acc = 0.0\n",
        "    total_correct = 0\n",
        "    total_samples = 0\n",
        "\n",
        "    if device == 'auto':\n",
        "        device = torch.device('cuda' if torch.cuda.is_available() else 'cpu')\n",
        "    else:\n",
        "        device = torch.device(device)\n",
        "\n",
        "    model = model.to(device)\n",
        "    itr = tqdm(loader, total=len(loader), leave=False)\n",
        "\n",
        "    for inputs, labels in itr:\n",
        "        inputs, labels = inputs.to(device), labels.to(device)\n",
        "\n",
        "        outputs = model(inputs)\n",
        "\n",
        "        loss = loss_function(outputs, labels)\n",
        "        test_loss += loss.item() * inputs.size(0)\n",
        "\n",
        "        _, predicted = torch.max(outputs, 1)\n",
        "        correct = (predicted == labels).sum().item()\n",
        "        total_correct += correct\n",
        "        total_samples += labels.size(0)\n",
        "\n",
        "        itr.set_description(\"(Eval)\")\n",
        "        itr.set_postfix(\n",
        "            loss=round(loss.item(), 5),\n",
        "            accuracy=round((correct / total_samples) * 100, 5),\n",
        "        )\n",
        "\n",
        "    test_loss /= total_samples\n",
        "    test_acc = (correct / total_samples) * 100\n",
        "\n",
        "    return test_loss, test_acc"
      ]
    },
    {
      "cell_type": "code",
      "execution_count": 6,
      "id": "1bc1edee98f616b5",
      "metadata": {
        "id": "1bc1edee98f616b5"
      },
      "outputs": [],
      "source": [
        "from typing import Union\n",
        "\n",
        "def train_model(\n",
        "        model,\n",
        "        batch_size,\n",
        "        loss_function,\n",
        "        optimizer,\n",
        "        epochs,\n",
        "        train_set,\n",
        "        valid_set,\n",
        "        device: Union[str, 'cuda', 'cpu', 'auto'] = 'auto',\n",
        "):\n",
        "\n",
        "    if device == \"auto\":\n",
        "        device = torch.device(\"cuda\" if torch.cuda.is_available() else \"cpu\")\n",
        "    else:\n",
        "        device = torch.device(device)\n",
        "\n",
        "    model.to(device)\n",
        "\n",
        "    train_losses = []\n",
        "    train_accs = []\n",
        "\n",
        "    valid_losses = []\n",
        "    valid_accs = []\n",
        "\n",
        "    train_loader = DataLoader(train_set, batch_size=batch_size, shuffle=True)\n",
        "    valid_loader = DataLoader(valid_set, batch_size=batch_size, shuffle=False)\n",
        "\n",
        "    for epoch in range(epochs):\n",
        "        model.train()\n",
        "        epoch_loss = 0\n",
        "        epoch_acc = 0\n",
        "        total_correct = 0\n",
        "        total_samples = 0\n",
        "\n",
        "        itr = tqdm(train_loader, total=len(train_loader), leave=False)\n",
        "        for idx, (inputs, labels) in enumerate(itr, start=1):\n",
        "            inputs, labels = inputs.to(device), labels.to(device)\n",
        "\n",
        "            optimizer.zero_grad()\n",
        "\n",
        "            outputs = model(inputs)\n",
        "\n",
        "            loss = loss_function(outputs, labels)\n",
        "            epoch_loss += loss.item() * inputs.size(0)\n",
        "\n",
        "            loss.backward()\n",
        "            optimizer.step()\n",
        "\n",
        "            _, predicted = torch.max(outputs, 1)\n",
        "            correct = (predicted == labels).sum().item()\n",
        "            \n",
        "            total_correct += correct\n",
        "            total_samples += labels.size(0)\n",
        "            epoch_acc = total_correct / total_samples\n",
        "\n",
        "            itr.set_description(f\"(Training) Epoch [{epoch + 1}/{epochs}]\")\n",
        "            itr.set_postfix(\n",
        "              loss=round(loss.item(), 5),\n",
        "              accuracy=round(epoch_acc, 5),\n",
        "            )\n",
        "\n",
        "        train_losses.append(epoch_loss / total_samples)\n",
        "        train_accs.append(epoch_acc)\n",
        "\n",
        "        model.eval()\n",
        "        valid_loss, valid_acc = model_eval(\n",
        "            model=model,\n",
        "            loader=valid_loader,\n",
        "            loss_function=loss_function,\n",
        "            device=device\n",
        "        )\n",
        "\n",
        "        valid_losses.append(valid_loss)\n",
        "        valid_accs.append(valid_acc)\n",
        "\n",
        "    history = {\n",
        "      \"train_loss\": train_losses,\n",
        "      \"train_acc\": train_accs,\n",
        "      \"valid_loss\": valid_losses,\n",
        "      \"valid_acc\": valid_accs,\n",
        "    }\n",
        "    return history"
      ]
    },
    {
      "cell_type": "code",
      "execution_count": 7,
      "id": "6e5acc20a7d5d446",
      "metadata": {
        "id": "6e5acc20a7d5d446"
      },
      "outputs": [],
      "source": [
        "def trend_plot_helper(pobj):\n",
        "    plt.figure(figsize=(5*len(pobj), 5))\n",
        "    for idx, (titler, plots) in enumerate(pobj.items(), start=1):\n",
        "        plt.subplot(1, len(pobj), idx)\n",
        "        for label, trend in plots:\n",
        "            plt.plot(range(1, len(trend)+1), trend, label=label)\n",
        "        yt, xt = titler.split(' - ')\n",
        "        plt.xlabel(xt)\n",
        "        plt.ylabel(yt)\n",
        "        plt.legend()"
      ]
    },
    {
      "cell_type": "code",
      "execution_count": 8,
      "id": "819f88c36492de48",
      "metadata": {
        "id": "819f88c36492de48"
      },
      "outputs": [],
      "source": [
        "@torch.no_grad()\n",
        "def generate_confusion_matrix(model, dataset, device='auto'):\n",
        "    if device == 'auto':\n",
        "        device = torch.device(\"cuda\" if torch.cuda.is_available() else \"cpu\")\n",
        "    model = model.to(device)\n",
        "\n",
        "    loader = DataLoader(dataset, batch_size=32, shuffle=False)\n",
        "    itr = tqdm(loader, leave=False, desc=\"Generate data\")\n",
        "\n",
        "    ############################################################\n",
        "    all_labels = []\n",
        "    all_predictions = []    \n",
        "\n",
        "    for inputs, labels in itr:\n",
        "        inputs, labels = inputs.to(device), labels.to(device)\n",
        "        outputs = model(inputs)\n",
        "        _, predicted = torch.max(outputs, 1)\n",
        "        all_labels.extend(labels.cpu().tolist())\n",
        "        all_predictions.extend(predicted.cpu().tolist())\n",
        "\n",
        "    labels = all_labels\n",
        "    predicted = all_predictions\n",
        "    ############################################################\n",
        "    cm = metrics.confusion_matrix(\n",
        "        y_true=labels,\n",
        "        y_pred=predicted,\n",
        "    )\n",
        "\n",
        "    plt.figure(figsize=(10,10))\n",
        "    sns.heatmap(cm, cmap='Blues', annot=True, cbar=False, fmt=\".0f\",)\n",
        "    plt.xlabel('Predicted Label', labelpad=20)\n",
        "    plt.ylabel('True Label', labelpad=20)\n",
        "    plt.title('Confusion Matrix', fontsize=30)\n",
        "\n",
        "    recall = metrics.recall_score(y_true=labels, y_pred=predicted, average='macro')\n",
        "    f1 = metrics.f1_score(y_true=labels, y_pred=predicted, average='macro')\n",
        "    precision = metrics.precision_score(y_true=labels, y_pred=predicted, average='macro')\n",
        "    report = metrics.classification_report(y_true=labels, y_pred=predicted)\n",
        "\n",
        "    return {'recall': recall, 'f1': f1, 'precision': precision, 'report': report}\n"
      ]
    },
    {
      "cell_type": "markdown",
      "id": "1566b2a8428318c8",
      "metadata": {
        "collapsed": false,
        "id": "1566b2a8428318c8"
      },
      "source": [
        "## Model's Network"
      ]
    },
    {
      "cell_type": "code",
      "execution_count": 20,
      "id": "a2ed27ccf8d0307c",
      "metadata": {
        "id": "a2ed27ccf8d0307c"
      },
      "outputs": [],
      "source": [
        "import torch.nn.functional as torchFunction\n",
        "\n",
        "class CNN(nn.Module):\n",
        "    def __init__(self):\n",
        "        super(CNN, self).__init__()\n",
        "        \n",
        "        self.layer1Neuron1 = nn.Conv1d(in_channels=64, out_channels=64, kernel_size=3)\n",
        "        self.layer1Neuron2 = nn.Conv1d(in_channels=64, out_channels=64, kernel_size=5)\n",
        "        self.layer1Neuron3 = nn.Conv1d(in_channels=64, out_channels=64, kernel_size=7)\n",
        "\n",
        "        self.layer2Neuron1 = nn.Conv1d(in_channels=64, out_channels=128, kernel_size=3)\n",
        "        self.layer2Neuron2 = nn.Conv1d(in_channels=128, out_channels=128, kernel_size=5)\n",
        "        self.layer2Neuron3 = nn.Conv1d(in_channels=128, out_channels=128, kernel_size=7)\n",
        "        \n",
        "        self.pool2 = nn.MaxPool1d(kernel_size=2)\n",
        "        \n",
        "        self.flatten = nn.Flatten()\n",
        "        \n",
        "        conv_output_size = self._get_conv_output_size()\n",
        "\n",
        "        self.fc1 = nn.Linear(conv_output_size, 128)\n",
        "        self.fc2 = nn.Linear(128, 2)\n",
        "\n",
        "    def forward(self, x):\n",
        "        x = torchFunction.relu(self.layer1Neuron1(x))\n",
        "        x = torchFunction.relu(self.layer1Neuron2(x))\n",
        "        x = torchFunction.relu(self.layer1Neuron3(x))\n",
        "\n",
        "        x = torchFunction.relu(self.layer2Neuron1(x))\n",
        "        x = torchFunction.relu(self.layer2Neuron2(x))\n",
        "        x = torchFunction.relu(self.layer2Neuron3(x))\n",
        "        \n",
        "        x = self.pool2(x)\n",
        "\n",
        "        x = self.flatten(x)\n",
        "        \n",
        "        x = torchFunction.relu(self.fc1(x))\n",
        "        x = self.fc2(x)\n",
        "\n",
        "        return x\n",
        "\n",
        "    def _get_conv_output_size(self):\n",
        "        x = torch.randn(1, 64, 300) \n",
        "        x = torchFunction.relu(self.layer1Neuron1(x))\n",
        "        x = torchFunction.relu(self.layer1Neuron2(x))\n",
        "        x = torchFunction.relu(self.layer1Neuron3(x))\n",
        "        x = torchFunction.relu(self.layer2Neuron1(x))\n",
        "        x = torchFunction.relu(self.layer2Neuron2(x))\n",
        "        x = torchFunction.relu(self.layer2Neuron3(x))\n",
        "        x = self.pool2(x)\n",
        "        x = self.flatten(x)\n",
        "        return x.shape[1]\n",
        "\n",
        "class Batch_normalizes_cnn(nn.Module):\n",
        "    def __init__(self):\n",
        "        super(Batch_normalizes_cnn, self).__init__()\n",
        "        \n",
        "        self.layer1Neuron1 = nn.Conv1d(in_channels=64, out_channels=64, kernel_size=3, stride=1, padding=1)\n",
        "        self.batchNorm11 = nn.BatchNorm1d(64)\n",
        "        \n",
        "        self.layer1Neuron2 = nn.Conv1d(in_channels=64, out_channels=64, kernel_size=3, stride=1, padding=1)\n",
        "        self.batchNorm12 = nn.BatchNorm1d(64)\n",
        "        \n",
        "        self.layer1Neuron3 = nn.Conv1d(in_channels=64, out_channels=64, kernel_size=3, stride=1, padding=1)\n",
        "        self.batchNorm13 = nn.BatchNorm1d(64)\n",
        "\n",
        "        self.layer2Neuron1 = nn.Conv1d(in_channels=64, out_channels=128, kernel_size=3, stride=1, padding=1)\n",
        "        self.batchNorm21 = nn.BatchNorm1d(128)\n",
        "        \n",
        "        self.layer2Neuron2 = nn.Conv1d(in_channels=128, out_channels=128, kernel_size=3, stride=1, padding=1)\n",
        "        self.batchNorm22 = nn.BatchNorm1d(128)\n",
        "        \n",
        "        self.layer2Neuron3 = nn.Conv1d(in_channels=128, out_channels=128, kernel_size=3, stride=1, padding=1)\n",
        "        self.batchNorm23 = nn.BatchNorm1d(128)\n",
        "        \n",
        "        self.pool2 = nn.MaxPool1d(kernel_size=2, stride=2)\n",
        "        \n",
        "        self.flatten = nn.Flatten()\n",
        "        \n",
        "        conv_output_size = self._get_conv_output_size()\n",
        "\n",
        "        self.fc1 = nn.Linear(conv_output_size, 128)\n",
        "        self.fc2 = nn.Linear(128, 2)\n",
        "\n",
        "    def forward(self, x):\n",
        "        x = torchFunction.relu(self.batchNorm11(self.layer1Neuron1(x)))\n",
        "        x = torchFunction.relu(self.batchNorm12(self.layer1Neuron2(x)))\n",
        "        x = torchFunction.relu(self.batchNorm13(self.layer1Neuron3(x)))\n",
        "\n",
        "        x = torchFunction.relu(self.batchNorm21(self.layer2Neuron1(x)))\n",
        "        x = torchFunction.relu(self.batchNorm22(self.layer2Neuron2(x)))\n",
        "        x = torchFunction.relu(self.batchNorm23(self.layer2Neuron3(x)))\n",
        "        \n",
        "        x = self.pool2(x)\n",
        "\n",
        "        x = self.flatten(x)\n",
        "        x = torchFunction.relu(self.fc1(x))\n",
        "        x = self.fc2(x)\n",
        "\n",
        "        return x\n",
        "\n",
        "    def _get_conv_output_size(self):\n",
        "        x = torch.randn(1, 64, 300)\n",
        "        x = torchFunction.relu(self.batchNorm11(self.layer1Neuron1(x)))\n",
        "        x = torchFunction.relu(self.batchNorm12(self.layer1Neuron2(x)))\n",
        "        x = torchFunction.relu(self.batchNorm13(self.layer1Neuron3(x)))\n",
        "        x = torchFunction.relu(self.batchNorm21(self.layer2Neuron1(x)))\n",
        "        x = torchFunction.relu(self.batchNorm22(self.layer2Neuron2(x)))\n",
        "        x = torchFunction.relu(self.batchNorm23(self.layer2Neuron3(x)))\n",
        "        x = self.pool2(x)\n",
        "        x = self.flatten(x)\n",
        "        return x.shape[1]\n",
        "\n"
      ]
    },
    {
      "cell_type": "markdown",
      "id": "-XhOZ_qwF6Bh",
      "metadata": {
        "id": "-XhOZ_qwF6Bh"
      },
      "source": [
        "## Training"
      ]
    },
    {
      "cell_type": "code",
      "execution_count": 21,
      "id": "76d30ba6554b6c48",
      "metadata": {
        "id": "76d30ba6554b6c48"
      },
      "outputs": [],
      "source": [
        "model = Batch_normalizes_cnn()"
      ]
    },
    {
      "cell_type": "code",
      "execution_count": 22,
      "id": "a57ddcb0836683ec",
      "metadata": {
        "colab": {
          "base_uri": "https://localhost:8080/"
        },
        "id": "a57ddcb0836683ec",
        "outputId": "0695a446-bb1b-49cc-8eaf-b059c477d173"
      },
      "outputs": [
        {
          "name": "stderr",
          "output_type": "stream",
          "text": [
            "                                                                                                         \r"
          ]
        }
      ],
      "source": [
        "batch_size = BATCH_SIZE\n",
        "epochs = EPOCHS\n",
        "device = DEVICE\n",
        "loss_function = nn.CrossEntropyLoss()\n",
        "optimizer = torch.optim.Adam(model.parameters(), lr=LEARNING_RATE)\n",
        "\n",
        "cnn_model_train_history = train_model(\n",
        "    model=model,\n",
        "    batch_size=batch_size,\n",
        "    loss_function=loss_function,\n",
        "    optimizer=optimizer,\n",
        "    epochs=epochs,\n",
        "    train_set=train_dataset,\n",
        "    valid_set=valid_dataset,\n",
        "    device=device\n",
        ")"
      ]
    },
    {
      "cell_type": "code",
      "execution_count": 23,
      "id": "ac375ced89f224ce",
      "metadata": {
        "id": "ac375ced89f224ce"
      },
      "outputs": [
        {
          "data": {
            "image/png": "[encoded data removed]",
            "text/plain": [
              "<Figure size 1000x500 with 2 Axes>"
            ]
          },
          "metadata": {},
          "output_type": "display_data"
        }
      ],
      "source": [
        "trend_plot_helper(\n",
        "    {\n",
        "        \"Accuracy - Epoch\": [\n",
        "            (\"Train Acc\", cnn_model_train_history[\"train_acc\"]),\n",
        "            (\"Validation Acc\", cnn_model_train_history[\"valid_acc\"]),\n",
        "        ],\n",
        "        \"Loss - Epoch\": [\n",
        "            (\"Train Loss\", cnn_model_train_history[\"train_loss\"]),\n",
        "            (\"Validation Loss\", cnn_model_train_history[\"valid_loss\"])\n",
        "        ]\n",
        "    }\n",
        ")"
      ]
    },
    {
      "cell_type": "code",
      "execution_count": 24,
      "id": "a09473d5783fa70f",
      "metadata": {
        "id": "a09473d5783fa70f"
      },
      "outputs": [
        {
          "name": "stderr",
          "output_type": "stream",
          "text": [
            "                                                              \r"
          ]
        },
        {
          "data": {
            "image/png": "[encoded data removed]",
            "text/plain": [
              "<Figure size 1000x1000 with 1 Axes>"
            ]
          },
          "metadata": {},
          "output_type": "display_data"
        }
      ],
      "source": [
        "cnn_model_report = generate_confusion_matrix(\n",
        "    model=model,\n",
        "    dataset=valid_dataset,\n",
        ")"
      ]
    },
    {
      "cell_type": "code",
      "execution_count": 25,
      "id": "8ee01e4607601dd8",
      "metadata": {
        "id": "8ee01e4607601dd8"
      },
      "outputs": [
        {
          "name": "stdout",
          "output_type": "stream",
          "text": [
            "Recall:    0.893\n",
            "F1:        0.892\n",
            "Precision: 0.891\n",
            "              precision    recall  f1-score   support\n",
            "\n",
            "           0       0.91      0.89      0.90      1011\n",
            "           1       0.87      0.89      0.88       805\n",
            "\n",
            "    accuracy                           0.89      1816\n",
            "   macro avg       0.89      0.89      0.89      1816\n",
            "weighted avg       0.89      0.89      0.89      1816\n",
            "\n"
          ]
        }
      ],
      "source": [
        "print(f\"Recall:    {cnn_model_report['recall']:.3f}\")\n",
        "print(f\"F1:        {cnn_model_report['f1']:.3f}\")\n",
        "print(f\"Precision: {cnn_model_report['precision']:.3f}\")\n",
        "print(cnn_model_report['report'])"
      ]
    },
    {
      "cell_type": "markdown",
      "id": "216c0b15",
      "metadata": {},
      "source": [
        "3. Tuning the Size of the CNN Model's Context Window"
      ]
    },
    {
      "cell_type": "code",
      "execution_count": 29,
      "id": "a60cec0d",
      "metadata": {},
      "outputs": [
        {
          "name": "stderr",
          "output_type": "stream",
          "text": [
            "                                                                                                       \r"
          ]
        }
      ],
      "source": [
        "import torch.nn.functional as torchFunction\n",
        "import torch\n",
        "import torch.nn as nn\n",
        "#dropout regularization\n",
        "class Dropout_cnn(nn.Module):\n",
        "    def __init__(self):\n",
        "        super(Dropout_cnn, self).__init__()\n",
        "        \n",
        "        self.layer1Neuron1 = nn.Conv1d(in_channels=64, out_channels=64, kernel_size=3)\n",
        "        self.dropout11 = nn.Dropout(0.5)\n",
        "        self.layer1Neuron2 = nn.Conv1d(in_channels=64, out_channels=64, kernel_size=5)\n",
        "        self.dropout12 = nn.Dropout(0.5)\n",
        "        self.layer1Neuron3 = nn.Conv1d(in_channels=64, out_channels=64, kernel_size=7)\n",
        "        self.dropout13 = nn.Dropout(0.5)\n",
        "\n",
        "        self.layer2Neuron1 = nn.Conv1d(in_channels=64, out_channels=128, kernel_size=3)\n",
        "        self.dropout21 = nn.Dropout(0.5)\n",
        "        self.layer2Neuron2 = nn.Conv1d(in_channels=128, out_channels=128, kernel_size=5)\n",
        "        self.dropout22 = nn.Dropout(0.5)\n",
        "        self.layer2Neuron3 = nn.Conv1d(in_channels=128, out_channels=128, kernel_size=7)\n",
        "        self.dropout23 = nn.Dropout(0.5)\n",
        "        \n",
        "        self.pool2 = nn.MaxPool1d(kernel_size=2)\n",
        "        \n",
        "        self.flatten = nn.Flatten()\n",
        "        \n",
        "        conv_output_size = self._get_conv_output_size()\n",
        "\n",
        "        self.fc1 = nn.Linear(conv_output_size, 128)\n",
        "        self.dropout_fc1 = nn.Dropout(0.5)\n",
        "        self.fc2 = nn.Linear(128, 2)\n",
        "\n",
        "    def forward(self, x):\n",
        "        x = torchFunction.relu(self.layer1Neuron1(x))\n",
        "        x = self.dropout11(x)\n",
        "        x = torchFunction.relu(self.layer1Neuron2(x))\n",
        "        x = self.dropout12(x)\n",
        "        x = torchFunction.relu(self.layer1Neuron3(x))\n",
        "        x = self.dropout13(x)\n",
        "\n",
        "        x = torchFunction.relu(self.layer2Neuron1(x))\n",
        "        x = self.dropout21(x)\n",
        "        x = torchFunction.relu(self.layer2Neuron2(x))\n",
        "        x = self.dropout22(x)\n",
        "        x = torchFunction.relu(self.layer2Neuron3(x))\n",
        "        x = self.dropout23(x)\n",
        "        \n",
        "        x = self.pool2(x)\n",
        "\n",
        "        x = self.flatten(x)\n",
        "        \n",
        "        x = torchFunction.relu(self.fc1(x))\n",
        "        x = self.dropout_fc1(x)\n",
        "        x = self.fc2(x)\n",
        "\n",
        "        return x\n",
        "\n",
        "    def _get_conv_output_size(self):\n",
        "        x = torch.randn(1, 64, 300)\n",
        "        x = torchFunction.relu(self.layer1Neuron1(x))\n",
        "        x = self.dropout11(x)\n",
        "        x = torchFunction.relu(self.layer1Neuron2(x))\n",
        "        x = self.dropout12(x)\n",
        "        x = torchFunction.relu(self.layer1Neuron3(x))\n",
        "        x = self.dropout13(x)\n",
        "        x = torchFunction.relu(self.layer2Neuron1(x))\n",
        "        x = self.dropout21(x)\n",
        "        x = torchFunction.relu(self.layer2Neuron2(x))\n",
        "        x = self.dropout22(x)\n",
        "        x = torchFunction.relu(self.layer2Neuron3(x))\n",
        "        x = self.dropout23(x)\n",
        "        x = self.pool2(x)\n",
        "        x = self.flatten(x)\n",
        "        return x.shape[1]\n",
        "\n",
        "model = Dropout_cnn()\n",
        "batch_size = BATCH_SIZE\n",
        "epochs = EPOCHS\n",
        "device = DEVICE\n",
        "loss_function = nn.CrossEntropyLoss()\n",
        "optimizer = torch.optim.Adam(model.parameters(), lr=LEARNING_RATE)\n",
        "\n",
        "cnn_model_train_history = train_model(\n",
        "    model=model,\n",
        "    batch_size=batch_size,\n",
        "    loss_function=loss_function,\n",
        "    optimizer=optimizer,\n",
        "    epochs=epochs,\n",
        "    train_set=train_dataset,\n",
        "    valid_set=valid_dataset,\n",
        "    device=device\n",
        ")\n"
      ]
    },
    {
      "cell_type": "code",
      "execution_count": 30,
      "id": "d39d4701",
      "metadata": {},
      "outputs": [
        {
          "data": {
            "image/png": "[encoded data removed]",
            "text/plain": [
              "<Figure size 1000x500 with 2 Axes>"
            ]
          },
          "metadata": {},
          "output_type": "display_data"
        }
      ],
      "source": [
        "trend_plot_helper(\n",
        "    {\n",
        "        \"Accuracy - Epoch\": [\n",
        "            (\"Train Acc\", cnn_model_train_history[\"train_acc\"]),\n",
        "            (\"Validation Acc\", cnn_model_train_history[\"valid_acc\"]),\n",
        "        ],\n",
        "        \"Loss - Epoch\": [\n",
        "            (\"Train Loss\", cnn_model_train_history[\"train_loss\"]),\n",
        "            (\"Validation Loss\", cnn_model_train_history[\"valid_loss\"])\n",
        "        ]\n",
        "    }\n",
        ")"
      ]
    },
    {
      "cell_type": "code",
      "execution_count": 31,
      "id": "f22b5b7a",
      "metadata": {},
      "outputs": [
        {
          "name": "stderr",
          "output_type": "stream",
          "text": [
            "                                                              \r"
          ]
        },
        {
          "data": {
            "image/png": "[encoded data removed]",
            "text/plain": [
              "<Figure size 1000x1000 with 1 Axes>"
            ]
          },
          "metadata": {},
          "output_type": "display_data"
        }
      ],
      "source": [
        "cnn_model_report = generate_confusion_matrix(\n",
        "    model=model,\n",
        "    dataset=valid_dataset,\n",
        ")"
      ]
    },
    {
      "cell_type": "code",
      "execution_count": 32,
      "id": "c2663e0e",
      "metadata": {},
      "outputs": [
        {
          "name": "stdout",
          "output_type": "stream",
          "text": [
            "Recall:    0.878\n",
            "F1:        0.884\n",
            "Precision: 0.900\n",
            "              precision    recall  f1-score   support\n",
            "\n",
            "           0       0.85      0.97      0.91      1011\n",
            "           1       0.95      0.79      0.86       805\n",
            "\n",
            "    accuracy                           0.89      1816\n",
            "   macro avg       0.90      0.88      0.88      1816\n",
            "weighted avg       0.89      0.89      0.89      1816\n",
            "\n"
          ]
        }
      ],
      "source": [
        "print(f\"Recall:    {cnn_model_report['recall']:.3f}\")\n",
        "print(f\"F1:        {cnn_model_report['f1']:.3f}\")\n",
        "print(f\"Precision: {cnn_model_report['precision']:.3f}\")\n",
        "print(cnn_model_report['report'])"
      ]
    },
    {
      "cell_type": "code",
      "execution_count": 36,
      "id": "e129896d",
      "metadata": {},
      "outputs": [],
      "source": [
        "class Seq_len_cnn(nn.Module):\n",
        "    def __init__(self):\n",
        "        super(Seq_len_cnn, self).__init__()\n",
        "        \n",
        "        self.layer1Neuron1 = nn.Conv1d(in_channels=64, out_channels=196, kernel_size=3, stride=1, padding=1)\n",
        "        self.batchNorm11 = nn.BatchNorm1d(64)\n",
        "        \n",
        "        self.layer1Neuron2 = nn.Conv1d(in_channels=64, out_channels=61964, kernel_size=3, stride=1, padding=1)\n",
        "        self.batchNorm12 = nn.BatchNorm1d(64)\n",
        "        \n",
        "        self.layer1Neuron3 = nn.Conv1d(in_channels=64, out_channels=196, kernel_size=3, stride=1, padding=1)\n",
        "        self.batchNorm13 = nn.BatchNorm1d(64)\n",
        "\n",
        "        self.layer2Neuron1 = nn.Conv1d(in_channels=64, out_channels=128, kernel_size=3, stride=1, padding=1)\n",
        "        self.batchNorm21 = nn.BatchNorm1d(128)\n",
        "        \n",
        "        self.layer2Neuron2 = nn.Conv1d(in_channels=128, out_channels=128, kernel_size=3, stride=1, padding=1)\n",
        "        self.batchNorm22 = nn.BatchNorm1d(128)\n",
        "        \n",
        "        self.layer2Neuron3 = nn.Conv1d(in_channels=128, out_channels=128, kernel_size=3, stride=1, padding=1)\n",
        "        self.batchNorm23 = nn.BatchNorm1d(128)\n",
        "        \n",
        "        self.pool2 = nn.MaxPool1d(kernel_size=2, stride=2)\n",
        "        \n",
        "        self.flatten = nn.Flatten()\n",
        "        \n",
        "        conv_output_size = self._get_conv_output_size()\n",
        "\n",
        "        self.fc1 = nn.Linear(conv_output_size, 196)\n",
        "        self.fc2 = nn.Linear(196, 2)\n",
        "\n",
        "    def forward(self, x):\n",
        "        x = torchFunction.relu(self.batchNorm11(self.layer1Neuron1(x)))\n",
        "        x = torchFunction.relu(self.batchNorm12(self.layer1Neuron2(x)))\n",
        "        x = torchFunction.relu(self.batchNorm13(self.layer1Neuron3(x)))\n",
        "\n",
        "        x = torchFunction.relu(self.batchNorm21(self.layer2Neuron1(x)))\n",
        "        x = torchFunction.relu(self.batchNorm22(self.layer2Neuron2(x)))\n",
        "        x = torchFunction.relu(self.batchNorm23(self.layer2Neuron3(x)))\n",
        "        \n",
        "        x = self.pool2(x)\n",
        "\n",
        "        x = self.flatten(x)\n",
        "        \n",
        "        x = torchFunction.relu(self.fc1(x))\n",
        "        x = self.fc2(x)\n",
        "\n",
        "        return x\n",
        "\n",
        "    def _get_conv_output_size(self):\n",
        "        x = torch.randn(1, 64, 196)\n",
        "        x = torchFunction.relu(self.batchNorm11(self.layer1Neuron1(x)))\n",
        "        x = torchFunction.relu(self.batchNorm12(self.layer1Neuron2(x)))\n",
        "        x = torchFunction.relu(self.batchNorm13(self.layer1Neuron3(x)))\n",
        "        x = torchFunction.relu(self.batchNorm21(self.layer2Neuron1(x)))\n",
        "        x = torchFunction.relu(self.batchNorm22(self.layer2Neuron2(x)))\n",
        "        x = torchFunction.relu(self.batchNorm23(self.layer2Neuron3(x)))\n",
        "        x = self.pool2(x)\n",
        "        x = self.flatten(x)\n",
        "        return x.shape[1]\n"
      ]
    },
    {
      "cell_type": "code",
      "execution_count": 39,
      "id": "019e2212",
      "metadata": {},
      "outputs": [
        {
          "name": "stderr",
          "output_type": "stream",
          "text": [
            "                                                                                                     \r"
          ]
        }
      ],
      "source": [
        "SEQUENCE_LEN = 196\n",
        "model = Seq_len_cnn()\n",
        "batch_size = BATCH_SIZE * 3\n",
        "epochs = EPOCHS\n",
        "device = DEVICE\n",
        "loss_function = nn.CrossEntropyLoss()\n",
        "optimizer = torch.optim.Adam(model.parameters(), lr=(LEARNING_RATE / 100))\n",
        "\n",
        "cnn_model_train_history = train_model(\n",
        "    model=model,\n",
        "    batch_size=batch_size,\n",
        "    loss_function=loss_function,\n",
        "    optimizer=optimizer,\n",
        "    epochs=epochs,\n",
        "    train_set=train_dataset,\n",
        "    valid_set=valid_dataset,\n",
        "    device=device\n",
        ")"
      ]
    },
    {
      "cell_type": "code",
      "execution_count": 40,
      "id": "3a125ab5",
      "metadata": {},
      "outputs": [
        {
          "data": {
            "image/png": "[encoded data removed]",
            "text/plain": [
              "<Figure size 1000x500 with 2 Axes>"
            ]
          },
          "metadata": {},
          "output_type": "display_data"
        }
      ],
      "source": [
        "trend_plot_helper(\n",
        "    {\n",
        "        \"Accuracy - Epoch\": [\n",
        "            (\"Train Acc\", cnn_model_train_history[\"train_acc\"]),\n",
        "            (\"Validation Acc\", cnn_model_train_history[\"valid_acc\"]),\n",
        "        ],\n",
        "        \"Loss - Epoch\": [\n",
        "            (\"Train Loss\", cnn_model_train_history[\"train_loss\"]),\n",
        "            (\"Validation Loss\", cnn_model_train_history[\"valid_loss\"])\n",
        "        ]\n",
        "    }\n",
        ")"
      ]
    },
    {
      "cell_type": "code",
      "execution_count": 41,
      "id": "4d2e32ec",
      "metadata": {},
      "outputs": [
        {
          "name": "stderr",
          "output_type": "stream",
          "text": [
            "                                                              \r"
          ]
        },
        {
          "data": {
            "image/png": "[encoded data removed]",
            "text/plain": [
              "<Figure size 1000x1000 with 1 Axes>"
            ]
          },
          "metadata": {},
          "output_type": "display_data"
        }
      ],
      "source": [
        "cnn_model_report = generate_confusion_matrix(\n",
        "    model=model,\n",
        "    dataset=valid_dataset,\n",
        ")"
      ]
    },
    {
      "cell_type": "code",
      "execution_count": 42,
      "id": "d0e1ab26",
      "metadata": {},
      "outputs": [
        {
          "name": "stdout",
          "output_type": "stream",
          "text": [
            "Recall:    0.851\n",
            "F1:        0.856\n",
            "Precision: 0.871\n",
            "              precision    recall  f1-score   support\n",
            "\n",
            "           0       0.83      0.94      0.88      1011\n",
            "           1       0.91      0.76      0.83       805\n",
            "\n",
            "    accuracy                           0.86      1816\n",
            "   macro avg       0.87      0.85      0.86      1816\n",
            "weighted avg       0.87      0.86      0.86      1816\n",
            "\n"
          ]
        }
      ],
      "source": [
        "print(f\"Recall:    {cnn_model_report['recall']:.3f}\")\n",
        "print(f\"F1:        {cnn_model_report['f1']:.3f}\")\n",
        "print(f\"Precision: {cnn_model_report['precision']:.3f}\")\n",
        "print(cnn_model_report['report'])"
      ]
    }
  ],
  "metadata": {
    "accelerator": "GPU",
    "colab": {
      "collapsed_sections": [
        "eY99YE-VG1C9",
        "cf946d026ed2d98e",
        "27110752c038c1d0",
        "2e129c7a31663741",
        "21730f8dd01e5b4e",
        "4b87e7e8b267a1c8",
        "bd00ab880892e646",
        "670fcd8db0e5651c"
      ],
      "gpuType": "T4",
      "provenance": []
    },
    "kernelspec": {
      "display_name": "Python 3",
      "name": "python3"
    },
    "language_info": {
      "codemirror_mode": {
        "name": "ipython",
        "version": 3
      },
      "file_extension": ".py",
      "mimetype": "text/x-python",
      "name": "python",
      "nbconvert_exporter": "python",
      "pygments_lexer": "ipython3",
      "version": "3.10.12"
    }
  },
  "nbformat": 4,
  "nbformat_minor": 5
}
